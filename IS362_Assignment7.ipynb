{
 "cells": [
  {
   "cell_type": "markdown",
   "metadata": {
    "id": "5kHWDjhDhOV3"
   },
   "source": [
    "**Prompt:**"
   ]
  },
  {
   "cell_type": "markdown",
   "metadata": {
    "id": "alb42D4zZ33D"
   },
   "source": [
    "Choose six recent popular movies. Ask at least five people that you know (friends, family, classmates, imaginary friends) to rate each of these movies that they have seen on a scale of 1 to 5. There should be at least one movie that not everyone has seen! Take the results (observations) and store them somewhere (like a SQL database, or a .CSV file). Load the information into a pandas dataframe. Your solution should include Python and pandas code that \n",
    "accomplishes the following:\n",
    "1. Load the ratings by user information that you collected into a pandas dataframe.\n",
    "2. Show the average ratings for each user and each movie.\n",
    "3. Create a new pandas dataframe, with normalized ratings for each user. Again, show the average ratings for each user and each movie.\n",
    "4. Provide a text-based conclusion: explain what might be advantages and disadvantages of using normalized ratings instead of the actual ratings.\n",
    "5. [Extra credit] Create another new pandas dataframe, with standardized ratings for each user. Once again, show the average ratings for each user and each movie.\n",
    "\n",
    "You may find this short article on normalization and standardization to be useful: \n",
    "http://bi-analytics.org/topic/9-standardization-vs-normalization/\n",
    "\n",
    "Your deliverables should include your source data and a Jupyter Notebook, posted to GitHub. This is by design a very open ended assignment. A variety of reasonable approaches are acceptable. "
   ]
  },
  {
   "cell_type": "code",
   "execution_count": 1,
   "metadata": {
    "id": "S69xaSADZvLe"
   },
   "outputs": [],
   "source": [
    "# import pandas and numpy\n",
    "import numpy as np\n",
    "import pandas as pd\n",
    "import matplotlib.pyplot as plt"
   ]
  },
  {
   "cell_type": "code",
   "execution_count": 2,
   "metadata": {
    "id": "jDcKQWbdaLJT"
   },
   "outputs": [],
   "source": [
    "# inline graphics\n",
    "%matplotlib inline"
   ]
  },
  {
   "cell_type": "code",
   "execution_count": 3,
   "metadata": {
    "id": "MJY1YBH5aNjf"
   },
   "outputs": [],
   "source": [
    "# read the csv\n",
    "df = pd.read_csv('C:/Users/snr13/Google Drive/School/CUNY/IS 362/Assignments/Week 7/data-1616157447942.csv')"
   ]
  },
  {
   "cell_type": "code",
   "execution_count": 4,
   "metadata": {
    "colab": {
     "base_uri": "https://localhost:8080/"
    },
    "id": "awjpc2w-iX27",
    "outputId": "08339f3d-8bc4-4b6e-ae1d-85229b668dc1"
   },
   "outputs": [
    {
     "name": "stdout",
     "output_type": "stream",
     "text": [
      "<class 'pandas.core.frame.DataFrame'>\n",
      "RangeIndex: 54 entries, 0 to 53\n",
      "Data columns (total 3 columns):\n",
      " #   Column       Non-Null Count  Dtype \n",
      "---  ------       --------------  ----- \n",
      " 0   user_name    54 non-null     object\n",
      " 1   movie_name   54 non-null     object\n",
      " 2   star_rating  54 non-null     int64 \n",
      "dtypes: int64(1), object(2)\n",
      "memory usage: 1.4+ KB\n"
     ]
    }
   ],
   "source": [
    "# view the columns and data types\n",
    "df.info()"
   ]
  },
  {
   "cell_type": "code",
   "execution_count": 5,
   "metadata": {
    "colab": {
     "base_uri": "https://localhost:8080/"
    },
    "id": "1H_ooA-WiNRa",
    "outputId": "73f4b200-5af6-4880-f482-2c86294aa85e"
   },
   "outputs": [
    {
     "data": {
      "text/html": [
       "<div>\n",
       "<style scoped>\n",
       "    .dataframe tbody tr th:only-of-type {\n",
       "        vertical-align: middle;\n",
       "    }\n",
       "\n",
       "    .dataframe tbody tr th {\n",
       "        vertical-align: top;\n",
       "    }\n",
       "\n",
       "    .dataframe thead th {\n",
       "        text-align: right;\n",
       "    }\n",
       "</style>\n",
       "<table border=\"1\" class=\"dataframe\">\n",
       "  <thead>\n",
       "    <tr style=\"text-align: right;\">\n",
       "      <th></th>\n",
       "      <th>user_name</th>\n",
       "      <th>movie_name</th>\n",
       "      <th>star_rating</th>\n",
       "    </tr>\n",
       "  </thead>\n",
       "  <tbody>\n",
       "    <tr>\n",
       "      <th>0</th>\n",
       "      <td>sjm</td>\n",
       "      <td>Parasite</td>\n",
       "      <td>4</td>\n",
       "    </tr>\n",
       "    <tr>\n",
       "      <th>1</th>\n",
       "      <td>kb</td>\n",
       "      <td>Parasite</td>\n",
       "      <td>5</td>\n",
       "    </tr>\n",
       "    <tr>\n",
       "      <th>2</th>\n",
       "      <td>fm</td>\n",
       "      <td>Parasite</td>\n",
       "      <td>4</td>\n",
       "    </tr>\n",
       "    <tr>\n",
       "      <th>3</th>\n",
       "      <td>jll</td>\n",
       "      <td>Parasite</td>\n",
       "      <td>5</td>\n",
       "    </tr>\n",
       "    <tr>\n",
       "      <th>4</th>\n",
       "      <td>dm</td>\n",
       "      <td>Parasite</td>\n",
       "      <td>1</td>\n",
       "    </tr>\n",
       "  </tbody>\n",
       "</table>\n",
       "</div>"
      ],
      "text/plain": [
       "  user_name movie_name  star_rating\n",
       "0       sjm   Parasite            4\n",
       "1        kb   Parasite            5\n",
       "2        fm   Parasite            4\n",
       "3       jll   Parasite            5\n",
       "4        dm   Parasite            1"
      ]
     },
     "execution_count": 5,
     "metadata": {},
     "output_type": "execute_result"
    }
   ],
   "source": [
    "# view the first five rows\n",
    "df.head()"
   ]
  },
  {
   "cell_type": "markdown",
   "metadata": {
    "id": "rF3GOFAMBgb4"
   },
   "source": [
    "# 1. Load the ratings by user that you collected into the pandas DataFrame"
   ]
  },
  {
   "cell_type": "code",
   "execution_count": 6,
   "metadata": {
    "colab": {
     "base_uri": "https://localhost:8080/"
    },
    "id": "7Ues8fqFiVtX",
    "outputId": "82f1fc32-b9d2-4d33-8fb5-a8f75fd921fa"
   },
   "outputs": [
    {
     "data": {
      "text/plain": [
       "<pandas.core.groupby.generic.DataFrameGroupBy object at 0x0000025AF142A700>"
      ]
     },
     "execution_count": 6,
     "metadata": {},
     "output_type": "execute_result"
    }
   ],
   "source": [
    "# group this data by the 'user_name' column\n",
    "# returns a DataFrameGroupBy object\n",
    "grouped_by_user = df.groupby('user_name')\n",
    "grouped_by_user"
   ]
  },
  {
   "cell_type": "code",
   "execution_count": 7,
   "metadata": {
    "colab": {
     "base_uri": "https://localhost:8080/"
    },
    "id": "fU4fVEoci2Zm",
    "outputId": "241be5e9-9f34-4429-ef16-b2eee179d7f7"
   },
   "outputs": [
    {
     "data": {
      "text/plain": [
       "10"
      ]
     },
     "execution_count": 7,
     "metadata": {},
     "output_type": "execute_result"
    }
   ],
   "source": [
    "# retrieve the number of groups that this will create\n",
    "grouped_by_user.ngroups"
   ]
  },
  {
   "cell_type": "markdown",
   "metadata": {
    "id": "r5oZdnqNjKEX"
   },
   "source": [
    "We are currently grouping by user_name. Ten groups have been formed, i.e. 10 users have rated the movies in this data set."
   ]
  },
  {
   "cell_type": "code",
   "execution_count": 8,
   "metadata": {
    "colab": {
     "base_uri": "https://localhost:8080/"
    },
    "id": "rvuydF8Ci_Cf",
    "outputId": "84ab896e-8c67-40ee-85e6-b827b989d83f"
   },
   "outputs": [
    {
     "data": {
      "text/plain": [
       "{'ajl': [7, 16, 25, 34, 43, 53], 'am': [9, 18, 27, 36, 45], 'dl': [5, 14, 23, 32, 41, 51], 'dm': [4, 13, 22, 31, 40, 50], 'fm': [2, 11, 20, 39, 48], 'jll': [3, 12, 21, 30, 49], 'kb': [1, 10, 29, 38, 47], 'npl': [6, 15, 24, 33, 42, 52], 'sjm': [0, 19, 28, 37, 46], 'sm': [8, 17, 26, 35, 44]}"
      ]
     },
     "execution_count": 8,
     "metadata": {},
     "output_type": "execute_result"
    }
   ],
   "source": [
    "# what and where are these groups?\n",
    "# .groups creates a dictionary,\n",
    "# where the name of the groups are keys, and their unique DataFrame indexes are values\n",
    "grouped_by_user.groups"
   ]
  },
  {
   "cell_type": "code",
   "execution_count": 9,
   "metadata": {
    "id": "RNLQRP_gjiSC"
   },
   "outputs": [],
   "source": [
    "# a helper function to print the contents of the groups\n",
    "def print_groups(groupobject):\n",
    "  # loop over all groups, \n",
    "  # printing the group name and group details\n",
    "  for name, group in groupobject:\n",
    "    print(name)\n",
    "    print(group)"
   ]
  },
  {
   "cell_type": "code",
   "execution_count": 10,
   "metadata": {
    "colab": {
     "base_uri": "https://localhost:8080/"
    },
    "id": "aOMScKjXjkYV",
    "outputId": "96a70518-53b2-488f-875f-ab67b47a6608"
   },
   "outputs": [
    {
     "name": "stdout",
     "output_type": "stream",
     "text": [
      "ajl\n",
      "   user_name                     movie_name  star_rating\n",
      "7        ajl                       Parasite            5\n",
      "16       ajl                           1917            3\n",
      "25       ajl                 Ford v Ferrari            4\n",
      "34       ajl                          Joker            4\n",
      "43       ajl  Once Upon a Time in Hollywood            5\n",
      "53       ajl                   The Irishman            5\n",
      "am\n",
      "   user_name                     movie_name  star_rating\n",
      "9         am                           1917            3\n",
      "18        am                 Ford v Ferrari            2\n",
      "27        am                          Joker            5\n",
      "36        am  Once Upon a Time in Hollywood            3\n",
      "45        am                   The Irishman            3\n",
      "dl\n",
      "   user_name                     movie_name  star_rating\n",
      "5         dl                       Parasite            3\n",
      "14        dl                           1917            4\n",
      "23        dl                 Ford v Ferrari            5\n",
      "32        dl                          Joker            5\n",
      "41        dl  Once Upon a Time in Hollywood            5\n",
      "51        dl                   The Irishman            4\n",
      "dm\n",
      "   user_name                     movie_name  star_rating\n",
      "4         dm                       Parasite            1\n",
      "13        dm                           1917            5\n",
      "22        dm                 Ford v Ferrari            1\n",
      "31        dm                          Joker            5\n",
      "40        dm  Once Upon a Time in Hollywood            4\n",
      "50        dm                   The Irishman            5\n",
      "fm\n",
      "   user_name                     movie_name  star_rating\n",
      "2         fm                       Parasite            4\n",
      "11        fm                           1917            3\n",
      "20        fm                 Ford v Ferrari            2\n",
      "39        fm  Once Upon a Time in Hollywood            4\n",
      "48        fm                   The Irishman            4\n",
      "jll\n",
      "   user_name      movie_name  star_rating\n",
      "3        jll        Parasite            5\n",
      "12       jll            1917            5\n",
      "21       jll  Ford v Ferrari            3\n",
      "30       jll           Joker            5\n",
      "49       jll    The Irishman            4\n",
      "kb\n",
      "   user_name                     movie_name  star_rating\n",
      "1         kb                       Parasite            5\n",
      "10        kb                           1917            5\n",
      "29        kb                          Joker            5\n",
      "38        kb  Once Upon a Time in Hollywood            1\n",
      "47        kb                   The Irishman            5\n",
      "npl\n",
      "   user_name                     movie_name  star_rating\n",
      "6        npl                       Parasite            5\n",
      "15       npl                           1917            2\n",
      "24       npl                 Ford v Ferrari            4\n",
      "33       npl                          Joker            4\n",
      "42       npl  Once Upon a Time in Hollywood            3\n",
      "52       npl                   The Irishman            5\n",
      "sjm\n",
      "   user_name                     movie_name  star_rating\n",
      "0        sjm                       Parasite            4\n",
      "19       sjm                 Ford v Ferrari            2\n",
      "28       sjm                          Joker            5\n",
      "37       sjm  Once Upon a Time in Hollywood            3\n",
      "46       sjm                   The Irishman            3\n",
      "sm\n",
      "   user_name                     movie_name  star_rating\n",
      "8         sm                       Parasite            2\n",
      "17        sm                           1917            2\n",
      "26        sm                 Ford v Ferrari            4\n",
      "35        sm                          Joker            4\n",
      "44        sm  Once Upon a Time in Hollywood            2\n"
     ]
    }
   ],
   "source": [
    "# examine the content of the groups we created\n",
    "print_groups(grouped_by_user)"
   ]
  },
  {
   "cell_type": "code",
   "execution_count": 11,
   "metadata": {
    "colab": {
     "base_uri": "https://localhost:8080/"
    },
    "id": "4hCmyu-njtq5",
    "outputId": "5bfb69b9-3bed-4348-d38c-dd54efab969f"
   },
   "outputs": [
    {
     "data": {
      "text/plain": [
       "user_name\n",
       "ajl    6\n",
       "am     5\n",
       "dl     6\n",
       "dm     6\n",
       "fm     5\n",
       "jll    5\n",
       "kb     5\n",
       "npl    6\n",
       "sjm    5\n",
       "sm     5\n",
       "dtype: int64"
      ]
     },
     "execution_count": 11,
     "metadata": {},
     "output_type": "execute_result"
    }
   ],
   "source": [
    "# get how many items are in each group\n",
    "grouped_by_user.size()"
   ]
  },
  {
   "cell_type": "code",
   "execution_count": 12,
   "metadata": {
    "colab": {
     "base_uri": "https://localhost:8080/"
    },
    "id": "0bgMJLhVkKRm",
    "outputId": "1d11d747-2755-4d2f-ca42-a210b0ce956b"
   },
   "outputs": [
    {
     "data": {
      "text/html": [
       "<div>\n",
       "<style scoped>\n",
       "    .dataframe tbody tr th:only-of-type {\n",
       "        vertical-align: middle;\n",
       "    }\n",
       "\n",
       "    .dataframe tbody tr th {\n",
       "        vertical-align: top;\n",
       "    }\n",
       "\n",
       "    .dataframe thead tr th {\n",
       "        text-align: left;\n",
       "    }\n",
       "\n",
       "    .dataframe thead tr:last-of-type th {\n",
       "        text-align: right;\n",
       "    }\n",
       "</style>\n",
       "<table border=\"1\" class=\"dataframe\">\n",
       "  <thead>\n",
       "    <tr>\n",
       "      <th></th>\n",
       "      <th colspan=\"8\" halign=\"left\">star_rating</th>\n",
       "    </tr>\n",
       "    <tr>\n",
       "      <th></th>\n",
       "      <th>count</th>\n",
       "      <th>mean</th>\n",
       "      <th>std</th>\n",
       "      <th>min</th>\n",
       "      <th>25%</th>\n",
       "      <th>50%</th>\n",
       "      <th>75%</th>\n",
       "      <th>max</th>\n",
       "    </tr>\n",
       "    <tr>\n",
       "      <th>user_name</th>\n",
       "      <th></th>\n",
       "      <th></th>\n",
       "      <th></th>\n",
       "      <th></th>\n",
       "      <th></th>\n",
       "      <th></th>\n",
       "      <th></th>\n",
       "      <th></th>\n",
       "    </tr>\n",
       "  </thead>\n",
       "  <tbody>\n",
       "    <tr>\n",
       "      <th>ajl</th>\n",
       "      <td>6.0</td>\n",
       "      <td>4.333333</td>\n",
       "      <td>0.816497</td>\n",
       "      <td>3.0</td>\n",
       "      <td>4.00</td>\n",
       "      <td>4.5</td>\n",
       "      <td>5.00</td>\n",
       "      <td>5.0</td>\n",
       "    </tr>\n",
       "    <tr>\n",
       "      <th>am</th>\n",
       "      <td>5.0</td>\n",
       "      <td>3.200000</td>\n",
       "      <td>1.095445</td>\n",
       "      <td>2.0</td>\n",
       "      <td>3.00</td>\n",
       "      <td>3.0</td>\n",
       "      <td>3.00</td>\n",
       "      <td>5.0</td>\n",
       "    </tr>\n",
       "    <tr>\n",
       "      <th>dl</th>\n",
       "      <td>6.0</td>\n",
       "      <td>4.333333</td>\n",
       "      <td>0.816497</td>\n",
       "      <td>3.0</td>\n",
       "      <td>4.00</td>\n",
       "      <td>4.5</td>\n",
       "      <td>5.00</td>\n",
       "      <td>5.0</td>\n",
       "    </tr>\n",
       "    <tr>\n",
       "      <th>dm</th>\n",
       "      <td>6.0</td>\n",
       "      <td>3.500000</td>\n",
       "      <td>1.974842</td>\n",
       "      <td>1.0</td>\n",
       "      <td>1.75</td>\n",
       "      <td>4.5</td>\n",
       "      <td>5.00</td>\n",
       "      <td>5.0</td>\n",
       "    </tr>\n",
       "    <tr>\n",
       "      <th>fm</th>\n",
       "      <td>5.0</td>\n",
       "      <td>3.400000</td>\n",
       "      <td>0.894427</td>\n",
       "      <td>2.0</td>\n",
       "      <td>3.00</td>\n",
       "      <td>4.0</td>\n",
       "      <td>4.00</td>\n",
       "      <td>4.0</td>\n",
       "    </tr>\n",
       "    <tr>\n",
       "      <th>jll</th>\n",
       "      <td>5.0</td>\n",
       "      <td>4.400000</td>\n",
       "      <td>0.894427</td>\n",
       "      <td>3.0</td>\n",
       "      <td>4.00</td>\n",
       "      <td>5.0</td>\n",
       "      <td>5.00</td>\n",
       "      <td>5.0</td>\n",
       "    </tr>\n",
       "    <tr>\n",
       "      <th>kb</th>\n",
       "      <td>5.0</td>\n",
       "      <td>4.200000</td>\n",
       "      <td>1.788854</td>\n",
       "      <td>1.0</td>\n",
       "      <td>5.00</td>\n",
       "      <td>5.0</td>\n",
       "      <td>5.00</td>\n",
       "      <td>5.0</td>\n",
       "    </tr>\n",
       "    <tr>\n",
       "      <th>npl</th>\n",
       "      <td>6.0</td>\n",
       "      <td>3.833333</td>\n",
       "      <td>1.169045</td>\n",
       "      <td>2.0</td>\n",
       "      <td>3.25</td>\n",
       "      <td>4.0</td>\n",
       "      <td>4.75</td>\n",
       "      <td>5.0</td>\n",
       "    </tr>\n",
       "    <tr>\n",
       "      <th>sjm</th>\n",
       "      <td>5.0</td>\n",
       "      <td>3.400000</td>\n",
       "      <td>1.140175</td>\n",
       "      <td>2.0</td>\n",
       "      <td>3.00</td>\n",
       "      <td>3.0</td>\n",
       "      <td>4.00</td>\n",
       "      <td>5.0</td>\n",
       "    </tr>\n",
       "    <tr>\n",
       "      <th>sm</th>\n",
       "      <td>5.0</td>\n",
       "      <td>2.800000</td>\n",
       "      <td>1.095445</td>\n",
       "      <td>2.0</td>\n",
       "      <td>2.00</td>\n",
       "      <td>2.0</td>\n",
       "      <td>4.00</td>\n",
       "      <td>4.0</td>\n",
       "    </tr>\n",
       "  </tbody>\n",
       "</table>\n",
       "</div>"
      ],
      "text/plain": [
       "          star_rating                                               \n",
       "                count      mean       std  min   25%  50%   75%  max\n",
       "user_name                                                           \n",
       "ajl               6.0  4.333333  0.816497  3.0  4.00  4.5  5.00  5.0\n",
       "am                5.0  3.200000  1.095445  2.0  3.00  3.0  3.00  5.0\n",
       "dl                6.0  4.333333  0.816497  3.0  4.00  4.5  5.00  5.0\n",
       "dm                6.0  3.500000  1.974842  1.0  1.75  4.5  5.00  5.0\n",
       "fm                5.0  3.400000  0.894427  2.0  3.00  4.0  4.00  4.0\n",
       "jll               5.0  4.400000  0.894427  3.0  4.00  5.0  5.00  5.0\n",
       "kb                5.0  4.200000  1.788854  1.0  5.00  5.0  5.00  5.0\n",
       "npl               6.0  3.833333  1.169045  2.0  3.25  4.0  4.75  5.0\n",
       "sjm               5.0  3.400000  1.140175  2.0  3.00  3.0  4.00  5.0\n",
       "sm                5.0  2.800000  1.095445  2.0  2.00  2.0  4.00  4.0"
      ]
     },
     "execution_count": 12,
     "metadata": {},
     "output_type": "execute_result"
    }
   ],
   "source": [
    "# get descriptive statistics\n",
    "grouped_by_user.describe()"
   ]
  },
  {
   "cell_type": "markdown",
   "metadata": {
    "id": "dmbM_9lMDKu_"
   },
   "source": [
    "# 2. Show the average ratings for each user and each movie"
   ]
  },
  {
   "cell_type": "code",
   "execution_count": 13,
   "metadata": {
    "colab": {
     "base_uri": "https://localhost:8080/"
    },
    "id": "783SZle6koah",
    "outputId": "d8304fe0-a284-421b-d988-d1f81db8b9e2"
   },
   "outputs": [
    {
     "data": {
      "text/html": [
       "<div>\n",
       "<style scoped>\n",
       "    .dataframe tbody tr th:only-of-type {\n",
       "        vertical-align: middle;\n",
       "    }\n",
       "\n",
       "    .dataframe tbody tr th {\n",
       "        vertical-align: top;\n",
       "    }\n",
       "\n",
       "    .dataframe thead th {\n",
       "        text-align: right;\n",
       "    }\n",
       "</style>\n",
       "<table border=\"1\" class=\"dataframe\">\n",
       "  <thead>\n",
       "    <tr style=\"text-align: right;\">\n",
       "      <th></th>\n",
       "      <th>star_rating</th>\n",
       "    </tr>\n",
       "    <tr>\n",
       "      <th>user_name</th>\n",
       "      <th></th>\n",
       "    </tr>\n",
       "  </thead>\n",
       "  <tbody>\n",
       "    <tr>\n",
       "      <th>ajl</th>\n",
       "      <td>4.333333</td>\n",
       "    </tr>\n",
       "    <tr>\n",
       "      <th>am</th>\n",
       "      <td>3.200000</td>\n",
       "    </tr>\n",
       "    <tr>\n",
       "      <th>dl</th>\n",
       "      <td>4.333333</td>\n",
       "    </tr>\n",
       "    <tr>\n",
       "      <th>dm</th>\n",
       "      <td>3.500000</td>\n",
       "    </tr>\n",
       "    <tr>\n",
       "      <th>fm</th>\n",
       "      <td>3.400000</td>\n",
       "    </tr>\n",
       "    <tr>\n",
       "      <th>jll</th>\n",
       "      <td>4.400000</td>\n",
       "    </tr>\n",
       "    <tr>\n",
       "      <th>kb</th>\n",
       "      <td>4.200000</td>\n",
       "    </tr>\n",
       "    <tr>\n",
       "      <th>npl</th>\n",
       "      <td>3.833333</td>\n",
       "    </tr>\n",
       "    <tr>\n",
       "      <th>sjm</th>\n",
       "      <td>3.400000</td>\n",
       "    </tr>\n",
       "    <tr>\n",
       "      <th>sm</th>\n",
       "      <td>2.800000</td>\n",
       "    </tr>\n",
       "  </tbody>\n",
       "</table>\n",
       "</div>"
      ],
      "text/plain": [
       "           star_rating\n",
       "user_name             \n",
       "ajl           4.333333\n",
       "am            3.200000\n",
       "dl            4.333333\n",
       "dm            3.500000\n",
       "fm            3.400000\n",
       "jll           4.400000\n",
       "kb            4.200000\n",
       "npl           3.833333\n",
       "sjm           3.400000\n",
       "sm            2.800000"
      ]
     },
     "execution_count": 13,
     "metadata": {},
     "output_type": "execute_result"
    }
   ],
   "source": [
    "# show the average rating by user\n",
    "avg_rating_by_user = grouped_by_user.agg(np.mean)\n",
    "avg_rating_by_user"
   ]
  },
  {
   "cell_type": "code",
   "execution_count": 14,
   "metadata": {
    "colab": {
     "base_uri": "https://localhost:8080/",
     "height": 281
    },
    "id": "5OMieFHOT2Q4",
    "outputId": "62285ad6-4560-48ab-9941-7d42ef2519e5"
   },
   "outputs": [
    {
     "data": {
      "image/png": "[encoded data removed]",
      "text/plain": [
       "<Figure size 432x288 with 1 Axes>"
      ]
     },
     "metadata": {
      "needs_background": "light"
     },
     "output_type": "display_data"
    }
   ],
   "source": [
    "plt.plot(avg_rating_by_user)\n",
    "plt.title('average rating by user')\n",
    "plt.show()"
   ]
  },
  {
   "cell_type": "code",
   "execution_count": 15,
   "metadata": {
    "colab": {
     "base_uri": "https://localhost:8080/"
    },
    "id": "XsHZy9gBk7Wc",
    "outputId": "146fba44-c82a-42e1-acd2-ff24e576ad59"
   },
   "outputs": [
    {
     "data": {
      "text/html": [
       "<div>\n",
       "<style scoped>\n",
       "    .dataframe tbody tr th:only-of-type {\n",
       "        vertical-align: middle;\n",
       "    }\n",
       "\n",
       "    .dataframe tbody tr th {\n",
       "        vertical-align: top;\n",
       "    }\n",
       "\n",
       "    .dataframe thead th {\n",
       "        text-align: right;\n",
       "    }\n",
       "</style>\n",
       "<table border=\"1\" class=\"dataframe\">\n",
       "  <thead>\n",
       "    <tr style=\"text-align: right;\">\n",
       "      <th></th>\n",
       "      <th>star_rating</th>\n",
       "    </tr>\n",
       "    <tr>\n",
       "      <th>movie_name</th>\n",
       "      <th></th>\n",
       "    </tr>\n",
       "  </thead>\n",
       "  <tbody>\n",
       "    <tr>\n",
       "      <th>1917</th>\n",
       "      <td>3.555556</td>\n",
       "    </tr>\n",
       "    <tr>\n",
       "      <th>Ford v Ferrari</th>\n",
       "      <td>3.000000</td>\n",
       "    </tr>\n",
       "    <tr>\n",
       "      <th>Joker</th>\n",
       "      <td>4.666667</td>\n",
       "    </tr>\n",
       "    <tr>\n",
       "      <th>Once Upon a Time in Hollywood</th>\n",
       "      <td>3.333333</td>\n",
       "    </tr>\n",
       "    <tr>\n",
       "      <th>Parasite</th>\n",
       "      <td>3.777778</td>\n",
       "    </tr>\n",
       "    <tr>\n",
       "      <th>The Irishman</th>\n",
       "      <td>4.222222</td>\n",
       "    </tr>\n",
       "  </tbody>\n",
       "</table>\n",
       "</div>"
      ],
      "text/plain": [
       "                               star_rating\n",
       "movie_name                                \n",
       "1917                              3.555556\n",
       "Ford v Ferrari                    3.000000\n",
       "Joker                             4.666667\n",
       "Once Upon a Time in Hollywood     3.333333\n",
       "Parasite                          3.777778\n",
       "The Irishman                      4.222222"
      ]
     },
     "execution_count": 15,
     "metadata": {},
     "output_type": "execute_result"
    }
   ],
   "source": [
    "# show the average rating by movie\n",
    "grouped_by_movie = df.groupby('movie_name')\n",
    "avg_rating_by_movie = grouped_by_movie.agg(np.mean)\n",
    "avg_rating_by_movie"
   ]
  },
  {
   "cell_type": "code",
   "execution_count": 16,
   "metadata": {
    "colab": {
     "base_uri": "https://localhost:8080/",
     "height": 430
    },
    "id": "JNzzkmgPTqrK",
    "outputId": "b1670e94-3370-46c6-e597-0a5bd29a5f8b"
   },
   "outputs": [
    {
     "data": {
      "image/png": "[encoded data removed]",
      "text/plain": [
       "<Figure size 432x288 with 1 Axes>"
      ]
     },
     "metadata": {
      "needs_background": "light"
     },
     "output_type": "display_data"
    }
   ],
   "source": [
    "plt.plot(avg_rating_by_movie)\n",
    "plt.title('average rating by movie')\n",
    "plt.xticks(rotation = 90) # rotates x-axis ticks by 90-degrees\n",
    "plt.show()"
   ]
  },
  {
   "cell_type": "markdown",
   "metadata": {
    "id": "TMvZUO8AD6f9"
   },
   "source": [
    "# 3. Create a new pandas dataframe, with normalized ratings for each user"
   ]
  },
  {
   "cell_type": "markdown",
   "metadata": {
    "id": "45USuaJT6_Dc"
   },
   "source": [
    "According to this Towards Data Science article \"[Data normalization with Pandas and Scikit-Learn](https://towardsdatascience.com/data-normalization-with-pandas-and-scikit-learn-7c1cc6ed6475#_=_)\",\n",
    "\n",
    "\"*Data Normalization is a common practice in machine learning which consists of transforming numeric columns to a common scale. In machine learning, some feature values differ from others multiple times. The features with higher values will dominate the leaning process. However, it does not mean those variables are more important to predict the outcome of the model. Data normalization transforms multiscaled data to the same scale. After normalization, all variables have a similar influence on the model, improving the stability and performance of the learning algorithm.*\"\n",
    "\n",
    "One method of normalizing data is mix-max scaling, as shown below. All numeric variables are scaled between 0 and 1.\n",
    "\n",
    "$x_{new} = \\frac{x - x_{min}}{x_{max} - x_{min}}$"
   ]
  },
  {
   "cell_type": "code",
   "execution_count": 17,
   "metadata": {
    "id": "uUZ2Co6e6-Af"
   },
   "outputs": [],
   "source": [
    "# apply the min-max scaling in pandas using the .min() and .max() methods\n",
    "def min_max_scaling(df):\n",
    "    # copy the dataframe\n",
    "    df_norm = df.copy()\n",
    "    # apply min-max scaling\n",
    "    for column in df_norm.columns:\n",
    "        df_norm[column] = (df_norm[column] - df_norm[column].min()) / (df_norm[column].max() - df_norm[column].min())\n",
    "        \n",
    "    return df_norm"
   ]
  },
  {
   "cell_type": "code",
   "execution_count": 18,
   "metadata": {
    "colab": {
     "base_uri": "https://localhost:8080/"
    },
    "id": "sVuMCVKFF1iU",
    "outputId": "f522a207-ffe3-45a0-e802-10d65b04d7ce"
   },
   "outputs": [
    {
     "data": {
      "text/html": [
       "<div>\n",
       "<style scoped>\n",
       "    .dataframe tbody tr th:only-of-type {\n",
       "        vertical-align: middle;\n",
       "    }\n",
       "\n",
       "    .dataframe tbody tr th {\n",
       "        vertical-align: top;\n",
       "    }\n",
       "\n",
       "    .dataframe thead th {\n",
       "        text-align: right;\n",
       "    }\n",
       "</style>\n",
       "<table border=\"1\" class=\"dataframe\">\n",
       "  <thead>\n",
       "    <tr style=\"text-align: right;\">\n",
       "      <th></th>\n",
       "      <th>star_rating</th>\n",
       "    </tr>\n",
       "    <tr>\n",
       "      <th>user_name</th>\n",
       "      <th></th>\n",
       "    </tr>\n",
       "  </thead>\n",
       "  <tbody>\n",
       "    <tr>\n",
       "      <th>ajl</th>\n",
       "      <td>0.958333</td>\n",
       "    </tr>\n",
       "    <tr>\n",
       "      <th>am</th>\n",
       "      <td>0.250000</td>\n",
       "    </tr>\n",
       "    <tr>\n",
       "      <th>dl</th>\n",
       "      <td>0.958333</td>\n",
       "    </tr>\n",
       "    <tr>\n",
       "      <th>dm</th>\n",
       "      <td>0.437500</td>\n",
       "    </tr>\n",
       "    <tr>\n",
       "      <th>fm</th>\n",
       "      <td>0.375000</td>\n",
       "    </tr>\n",
       "    <tr>\n",
       "      <th>jll</th>\n",
       "      <td>1.000000</td>\n",
       "    </tr>\n",
       "    <tr>\n",
       "      <th>kb</th>\n",
       "      <td>0.875000</td>\n",
       "    </tr>\n",
       "    <tr>\n",
       "      <th>npl</th>\n",
       "      <td>0.645833</td>\n",
       "    </tr>\n",
       "    <tr>\n",
       "      <th>sjm</th>\n",
       "      <td>0.375000</td>\n",
       "    </tr>\n",
       "    <tr>\n",
       "      <th>sm</th>\n",
       "      <td>0.000000</td>\n",
       "    </tr>\n",
       "  </tbody>\n",
       "</table>\n",
       "</div>"
      ],
      "text/plain": [
       "           star_rating\n",
       "user_name             \n",
       "ajl           0.958333\n",
       "am            0.250000\n",
       "dl            0.958333\n",
       "dm            0.437500\n",
       "fm            0.375000\n",
       "jll           1.000000\n",
       "kb            0.875000\n",
       "npl           0.645833\n",
       "sjm           0.375000\n",
       "sm            0.000000"
      ]
     },
     "execution_count": 18,
     "metadata": {},
     "output_type": "execute_result"
    }
   ],
   "source": [
    "# call the min_max_scaling function on the ratings by user\n",
    "avg_rating_by_user_normalized = min_max_scaling(avg_rating_by_user)\n",
    "avg_rating_by_user_normalized"
   ]
  },
  {
   "cell_type": "code",
   "execution_count": 19,
   "metadata": {
    "colab": {
     "base_uri": "https://localhost:8080/",
     "height": 281
    },
    "id": "hYmC-3IKitFz",
    "outputId": "eebff9f1-eadd-4fd2-86d5-0c874c1bc36b"
   },
   "outputs": [
    {
     "data": {
      "image/png": "[encoded data removed]",
      "text/plain": [
       "<Figure size 432x288 with 1 Axes>"
      ]
     },
     "metadata": {
      "needs_background": "light"
     },
     "output_type": "display_data"
    }
   ],
   "source": [
    "plt.plot(avg_rating_by_user_normalized)\n",
    "plt.title('normalized average rating by user')\n",
    "plt.show()"
   ]
  },
  {
   "cell_type": "code",
   "execution_count": 20,
   "metadata": {
    "colab": {
     "base_uri": "https://localhost:8080/"
    },
    "id": "yRgVouEpAsne",
    "outputId": "bc5f203a-1823-4d18-db8d-9bde5509a866"
   },
   "outputs": [
    {
     "data": {
      "text/html": [
       "<div>\n",
       "<style scoped>\n",
       "    .dataframe tbody tr th:only-of-type {\n",
       "        vertical-align: middle;\n",
       "    }\n",
       "\n",
       "    .dataframe tbody tr th {\n",
       "        vertical-align: top;\n",
       "    }\n",
       "\n",
       "    .dataframe thead th {\n",
       "        text-align: right;\n",
       "    }\n",
       "</style>\n",
       "<table border=\"1\" class=\"dataframe\">\n",
       "  <thead>\n",
       "    <tr style=\"text-align: right;\">\n",
       "      <th></th>\n",
       "      <th>star_rating</th>\n",
       "    </tr>\n",
       "    <tr>\n",
       "      <th>movie_name</th>\n",
       "      <th></th>\n",
       "    </tr>\n",
       "  </thead>\n",
       "  <tbody>\n",
       "    <tr>\n",
       "      <th>1917</th>\n",
       "      <td>0.333333</td>\n",
       "    </tr>\n",
       "    <tr>\n",
       "      <th>Ford v Ferrari</th>\n",
       "      <td>0.000000</td>\n",
       "    </tr>\n",
       "    <tr>\n",
       "      <th>Joker</th>\n",
       "      <td>1.000000</td>\n",
       "    </tr>\n",
       "    <tr>\n",
       "      <th>Once Upon a Time in Hollywood</th>\n",
       "      <td>0.200000</td>\n",
       "    </tr>\n",
       "    <tr>\n",
       "      <th>Parasite</th>\n",
       "      <td>0.466667</td>\n",
       "    </tr>\n",
       "    <tr>\n",
       "      <th>The Irishman</th>\n",
       "      <td>0.733333</td>\n",
       "    </tr>\n",
       "  </tbody>\n",
       "</table>\n",
       "</div>"
      ],
      "text/plain": [
       "                               star_rating\n",
       "movie_name                                \n",
       "1917                              0.333333\n",
       "Ford v Ferrari                    0.000000\n",
       "Joker                             1.000000\n",
       "Once Upon a Time in Hollywood     0.200000\n",
       "Parasite                          0.466667\n",
       "The Irishman                      0.733333"
      ]
     },
     "execution_count": 20,
     "metadata": {},
     "output_type": "execute_result"
    }
   ],
   "source": [
    "# call the min_max_scaling function on the ratings by movie\n",
    "avg_rating_by_movie_normalized = min_max_scaling(avg_rating_by_movie)\n",
    "avg_rating_by_movie_normalized"
   ]
  },
  {
   "cell_type": "code",
   "execution_count": 21,
   "metadata": {
    "colab": {
     "base_uri": "https://localhost:8080/",
     "height": 430
    },
    "id": "u6Au2Sk0i2a_",
    "outputId": "3c3c2b06-cdf5-4e2c-a513-e3c4b76e1b7e"
   },
   "outputs": [
    {
     "data": {
      "image/png": "[encoded data removed]",
      "text/plain": [
       "<Figure size 432x288 with 1 Axes>"
      ]
     },
     "metadata": {
      "needs_background": "light"
     },
     "output_type": "display_data"
    }
   ],
   "source": [
    "plt.plot(avg_rating_by_movie_normalized)\n",
    "plt.title('normalized average rating by movie')\n",
    "plt.xticks(rotation = 90)\n",
    "plt.show()"
   ]
  },
  {
   "cell_type": "markdown",
   "metadata": {
    "id": "ih12sSJdK419"
   },
   "source": [
    "# Provide a text-based conclusion: explain what might be advantages and disadvantages of using normalized ratings instead of the actual ratings"
   ]
  },
  {
   "cell_type": "markdown",
   "metadata": {
    "id": "W1atEINaK78q"
   },
   "source": [
    "When comparing data or when using data to make predictions, normalization scales the data in such a way that allows for fair comparisons. As stated in the Towards Data Science article linked above, \n",
    "\n",
    "\"*The success of a machine learning algorithm highly depends on the quality of the data fed into the model. Real-world data is often dirty containing outliers, missing values, wrong data types, irrelevant features, or non-standardized data. The presence of any of these will prevent the machine learning model to properly learn. For this reason, transforming raw data into a useful format is an essential stage in the machine learning process.*\"\n",
    "\n",
    "Normalized data does not show outliers or missing values. In cases where it might be meaningful to see those values (or lackthereof), unnormalized data might be more useful.  "
   ]
  },
  {
   "cell_type": "markdown",
   "metadata": {
    "id": "4sxanHEgPUAF"
   },
   "source": [
    "# 5. [Extra credit] Create another new pandas dataframe, with standardized ratings for each user"
   ]
  },
  {
   "cell_type": "markdown",
   "metadata": {
    "id": "3ylXI9aRNN-K"
   },
   "source": [
    "One method of standardization data is the z-score method, as shown below.\n",
    "\n",
    "$x_{new} = \\frac{x - \\mu}{\\sigma}$"
   ]
  },
  {
   "cell_type": "code",
   "execution_count": 22,
   "metadata": {
    "id": "wn-k9EQbNIJS"
   },
   "outputs": [],
   "source": [
    "# apply the z-score method in Pandas using the .mean() and .std() methods\n",
    "def z_score(df):\n",
    "    # copy the dataframe\n",
    "    df_std = df.copy()\n",
    "    # apply the z-score method\n",
    "    for column in df_std.columns:\n",
    "        df_std[column] = (df_std[column] - df_std[column].mean()) / df_std[column].std()\n",
    "        \n",
    "    return df_std"
   ]
  },
  {
   "cell_type": "code",
   "execution_count": 23,
   "metadata": {
    "colab": {
     "base_uri": "https://localhost:8080/"
    },
    "id": "Pbr2DkXhOpmf",
    "outputId": "42d73f3c-fdec-4a23-ef22-b90bb5bf1158"
   },
   "outputs": [
    {
     "data": {
      "text/html": [
       "<div>\n",
       "<style scoped>\n",
       "    .dataframe tbody tr th:only-of-type {\n",
       "        vertical-align: middle;\n",
       "    }\n",
       "\n",
       "    .dataframe tbody tr th {\n",
       "        vertical-align: top;\n",
       "    }\n",
       "\n",
       "    .dataframe thead th {\n",
       "        text-align: right;\n",
       "    }\n",
       "</style>\n",
       "<table border=\"1\" class=\"dataframe\">\n",
       "  <thead>\n",
       "    <tr style=\"text-align: right;\">\n",
       "      <th></th>\n",
       "      <th>star_rating</th>\n",
       "    </tr>\n",
       "    <tr>\n",
       "      <th>user_name</th>\n",
       "      <th></th>\n",
       "    </tr>\n",
       "  </thead>\n",
       "  <tbody>\n",
       "    <tr>\n",
       "      <th>ajl</th>\n",
       "      <td>1.059224</td>\n",
       "    </tr>\n",
       "    <tr>\n",
       "      <th>am</th>\n",
       "      <td>-0.964013</td>\n",
       "    </tr>\n",
       "    <tr>\n",
       "      <th>dl</th>\n",
       "      <td>1.059224</td>\n",
       "    </tr>\n",
       "    <tr>\n",
       "      <th>dm</th>\n",
       "      <td>-0.428450</td>\n",
       "    </tr>\n",
       "    <tr>\n",
       "      <th>fm</th>\n",
       "      <td>-0.606971</td>\n",
       "    </tr>\n",
       "    <tr>\n",
       "      <th>jll</th>\n",
       "      <td>1.178238</td>\n",
       "    </tr>\n",
       "    <tr>\n",
       "      <th>kb</th>\n",
       "      <td>0.821196</td>\n",
       "    </tr>\n",
       "    <tr>\n",
       "      <th>npl</th>\n",
       "      <td>0.166619</td>\n",
       "    </tr>\n",
       "    <tr>\n",
       "      <th>sjm</th>\n",
       "      <td>-0.606971</td>\n",
       "    </tr>\n",
       "    <tr>\n",
       "      <th>sm</th>\n",
       "      <td>-1.678096</td>\n",
       "    </tr>\n",
       "  </tbody>\n",
       "</table>\n",
       "</div>"
      ],
      "text/plain": [
       "           star_rating\n",
       "user_name             \n",
       "ajl           1.059224\n",
       "am           -0.964013\n",
       "dl            1.059224\n",
       "dm           -0.428450\n",
       "fm           -0.606971\n",
       "jll           1.178238\n",
       "kb            0.821196\n",
       "npl           0.166619\n",
       "sjm          -0.606971\n",
       "sm           -1.678096"
      ]
     },
     "execution_count": 23,
     "metadata": {},
     "output_type": "execute_result"
    }
   ],
   "source": [
    "# call the z_score function on average rating by user\n",
    "avg_rating_by_user_standardized = z_score(avg_rating_by_user)\n",
    "avg_rating_by_user_standardized"
   ]
  },
  {
   "cell_type": "code",
   "execution_count": 24,
   "metadata": {
    "colab": {
     "base_uri": "https://localhost:8080/",
     "height": 281
    },
    "id": "91NmsGaNmZQH",
    "outputId": "8a9b2edb-f99c-4660-dca3-b6687e9a002a"
   },
   "outputs": [
    {
     "data": {
      "image/png": "[encoded data removed]",
      "text/plain": [
       "<Figure size 432x288 with 1 Axes>"
      ]
     },
     "metadata": {
      "needs_background": "light"
     },
     "output_type": "display_data"
    }
   ],
   "source": [
    "plt.plot(avg_rating_by_user_standardized)\n",
    "plt.title('standardized average rating by user')\n",
    "plt.show()"
   ]
  },
  {
   "cell_type": "code",
   "execution_count": 25,
   "metadata": {
    "colab": {
     "base_uri": "https://localhost:8080/"
    },
    "id": "zHuWXtLGO0EC",
    "outputId": "cd6d109d-0e8d-403d-b576-e649e6b01113"
   },
   "outputs": [
    {
     "data": {
      "text/html": [
       "<div>\n",
       "<style scoped>\n",
       "    .dataframe tbody tr th:only-of-type {\n",
       "        vertical-align: middle;\n",
       "    }\n",
       "\n",
       "    .dataframe tbody tr th {\n",
       "        vertical-align: top;\n",
       "    }\n",
       "\n",
       "    .dataframe thead th {\n",
       "        text-align: right;\n",
       "    }\n",
       "</style>\n",
       "<table border=\"1\" class=\"dataframe\">\n",
       "  <thead>\n",
       "    <tr style=\"text-align: right;\">\n",
       "      <th></th>\n",
       "      <th>star_rating</th>\n",
       "    </tr>\n",
       "    <tr>\n",
       "      <th>movie_name</th>\n",
       "      <th></th>\n",
       "    </tr>\n",
       "  </thead>\n",
       "  <tbody>\n",
       "    <tr>\n",
       "      <th>1917</th>\n",
       "      <td>-0.336029</td>\n",
       "    </tr>\n",
       "    <tr>\n",
       "      <th>Ford v Ferrari</th>\n",
       "      <td>-1.252470</td>\n",
       "    </tr>\n",
       "    <tr>\n",
       "      <th>Joker</th>\n",
       "      <td>1.496855</td>\n",
       "    </tr>\n",
       "    <tr>\n",
       "      <th>Once Upon a Time in Hollywood</th>\n",
       "      <td>-0.702605</td>\n",
       "    </tr>\n",
       "    <tr>\n",
       "      <th>Parasite</th>\n",
       "      <td>0.030548</td>\n",
       "    </tr>\n",
       "    <tr>\n",
       "      <th>The Irishman</th>\n",
       "      <td>0.763702</td>\n",
       "    </tr>\n",
       "  </tbody>\n",
       "</table>\n",
       "</div>"
      ],
      "text/plain": [
       "                               star_rating\n",
       "movie_name                                \n",
       "1917                             -0.336029\n",
       "Ford v Ferrari                   -1.252470\n",
       "Joker                             1.496855\n",
       "Once Upon a Time in Hollywood    -0.702605\n",
       "Parasite                          0.030548\n",
       "The Irishman                      0.763702"
      ]
     },
     "execution_count": 25,
     "metadata": {},
     "output_type": "execute_result"
    }
   ],
   "source": [
    "# call the z_score function on average rating by movie\n",
    "avg_rating_by_movie_standardized = z_score(avg_rating_by_movie)\n",
    "avg_rating_by_movie_standardized"
   ]
  },
  {
   "cell_type": "code",
   "execution_count": 26,
   "metadata": {
    "colab": {
     "base_uri": "https://localhost:8080/",
     "height": 430
    },
    "id": "qlMJlV0Pmde4",
    "outputId": "74b2d0ef-90cd-4c73-e524-44cd345f5e58"
   },
   "outputs": [
    {
     "data": {
      "image/png": "[encoded data removed]",
      "text/plain": [
       "<Figure size 432x288 with 1 Axes>"
      ]
     },
     "metadata": {
      "needs_background": "light"
     },
     "output_type": "display_data"
    }
   ],
   "source": [
    "plt.plot(avg_rating_by_movie_standardized)\n",
    "plt.title('standardized average rating by movie')\n",
    "plt.xticks(rotation = 90)\n",
    "plt.show()"
   ]
  },
  {
   "cell_type": "code",
   "execution_count": 27,
   "metadata": {
    "colab": {
     "base_uri": "https://localhost:8080/",
     "height": 281
    },
    "id": "gv7OHfN1e5cQ",
    "outputId": "9f676761-9693-4673-fbfc-c8f3fc34cb86"
   },
   "outputs": [
    {
     "data": {
      "image/png": "[encoded data removed]",
      "text/plain": [
       "<Figure size 432x288 with 1 Axes>"
      ]
     },
     "metadata": {
      "needs_background": "light"
     },
     "output_type": "display_data"
    }
   ],
   "source": [
    "plt.plot(avg_rating_by_user, label = 'avg_rating_by_user')\n",
    "plt.plot(avg_rating_by_user_normalized, label = 'avg_rating_by_user_normalized')\n",
    "plt.plot(avg_rating_by_user_standardized, label = 'avg_rating_by_user_standardized')\n",
    "plt.title('original vs normalized vs standardized rating by user')\n",
    "plt.legend(loc = 'center right')\n",
    "plt.show()"
   ]
  },
  {
   "cell_type": "code",
   "execution_count": 28,
   "metadata": {
    "colab": {
     "base_uri": "https://localhost:8080/",
     "height": 430
    },
    "id": "njWy7MmVnk6v",
    "outputId": "8649d911-816f-4408-b5da-331603486ce4"
   },
   "outputs": [
    {
     "data": {
      "image/png": "[encoded data removed]",
      "text/plain": [
       "<Figure size 432x288 with 1 Axes>"
      ]
     },
     "metadata": {
      "needs_background": "light"
     },
     "output_type": "display_data"
    }
   ],
   "source": [
    "plt.plot(avg_rating_by_movie, label = 'avg_rating_by_movie')\n",
    "plt.plot(avg_rating_by_movie_normalized, label = 'avg_rating_by_movie_normalized')\n",
    "plt.plot(avg_rating_by_movie_standardized, label = 'avg_rating_by_movie_standardized')\n",
    "plt.title('original vs normalized vs standardized rating by movie')\n",
    "plt.legend(loc = 'center right')\n",
    "plt.xticks(rotation = 90)\n",
    "plt.show()"
   ]
  }
 ],
 "metadata": {
  "colab": {
   "collapsed_sections": [],
   "name": "IS362_Assignment7.ipynb",
   "provenance": []
  },
  "kernelspec": {
   "display_name": "Python 3",
   "language": "python",
   "name": "python3"
  },
  "language_info": {
   "codemirror_mode": {
    "name": "ipython",
    "version": 3
   },
   "file_extension": ".py",
   "mimetype": "text/x-python",
   "name": "python",
   "nbconvert_exporter": "python",
   "pygments_lexer": "ipython3",
   "version": "3.8.6"
  }
 },
 "nbformat": 4,
 "nbformat_minor": 1
}
